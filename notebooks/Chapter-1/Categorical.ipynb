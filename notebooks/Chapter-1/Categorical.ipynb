{
 "cells": [
  {
   "cell_type": "markdown",
   "id": "sonic-angel",
   "metadata": {
    "tags": []
   },
   "source": [
    "## Introduction and background\n",
    "\n",
    "These notebooks describe how to undertake analyses introduced as examples in the\n",
    "Ninth Edition of *Introduction to the Practice of Statistics* (2017) by Moore, McCabe, and Craig.\n",
    "The data used in the notebooks are from the R version of the notebooks found at https://nhorton.people.amherst.edu/ips9/.\n",
    "\n",
    "## Setup\n",
    "\n",
    "First load the IPS (short for *Introduction to the Practice of Statistics*) package and dependencies:"
   ]
  },
  {
   "cell_type": "code",
   "execution_count": 1,
   "id": "manufactured-efficiency",
   "metadata": {},
   "outputs": [
    {
     "name": "stdout",
     "output_type": "stream",
     "text": [
      "To load \"ips\":\n",
      "  Load 1 ASDF system:\n",
      "    ips\n",
      "\n",
      "; Loading \"ips\"\n",
      "......."
     ]
    },
    {
     "data": {
      "text/plain": [
       "(:IPS)"
      ]
     },
     "execution_count": 1,
     "metadata": {},
     "output_type": "execute_result"
    },
    {
     "name": "stdout",
     "output_type": "stream",
     "text": [
      "\n"
     ]
    }
   ],
   "source": [
    "(ql:quickload :ips)"
   ]
  },
  {
   "cell_type": "code",
   "execution_count": 2,
   "id": "answering-management",
   "metadata": {
    "tags": []
   },
   "outputs": [
    {
     "data": {
      "text/plain": [
       "#<PACKAGE \"IPS\">"
      ]
     },
     "execution_count": 2,
     "metadata": {},
     "output_type": "execute_result"
    }
   ],
   "source": [
    "(in-package :ips)"
   ]
  },
  {
   "cell_type": "markdown",
   "id": "otherwise-psychiatry",
   "metadata": {},
   "source": [
    "# Chapter 1: Looking at data &mdash; distributions\n",
    "\n",
    "## 1.1 Key characteristics of a data set\n",
    "\n",
    "## 1.2 Displaying distributions with graphs\n",
    "\n",
    "### 1.2.1 Categorical variables: Bar graphs and pie charts\n",
    "\n",
    "The distribution of a categorical variable lists the categories and gives either the count or the percent of cases that fall in each category. An alternative to the percent is the proportion, the count divided by the sum of the counts. Note that the percent is simply the proportion times 100.\n",
    "\n",
    "#### Example 1.7 The distribution of a categorical variable using a bar graph.\n",
    "\n",
    "In example 1.7, the distribution of a categorical variable is examined along with a demonstration of the count of each catagory as a percentage of the total. The data set is the preferences for online information resources taken from a survey of 552 first year university students.\n",
    "\n",
    "First, read the data into a data frame with the name 'online'. Note that we're not using the usual convention of \\*earmuffs\\* on the variable name because we are working within the IPS package."
   ]
  },
  {
   "cell_type": "code",
   "execution_count": 3,
   "id": "pretty-spiritual",
   "metadata": {},
   "outputs": [
    {
     "data": {
      "text/plain": [
       "ONLINE"
      ]
     },
     "execution_count": 3,
     "metadata": {},
     "output_type": "execute_result"
    }
   ],
   "source": [
    "(defparameter online (csv-to-data-frame (dex:get ips::eg01-07 :want-stream t)))"
   ]
  },
  {
   "cell_type": "markdown",
   "id": "parental-cabin",
   "metadata": {},
   "source": [
    "We can view the counts by typing the variable's name:"
   ]
  },
  {
   "cell_type": "code",
   "execution_count": 4,
   "id": "acceptable-craps",
   "metadata": {},
   "outputs": [
    {
     "data": {
      "text/plain": [
       "#<DATA-FRAME (2 x 4)\n",
       "  :SOURCE #(\"Google\" \"Library\" \"Wikipedia\" \"Other\")\n",
       "  :COUNT #(406 75 52 19)>"
      ]
     },
     "execution_count": 4,
     "metadata": {},
     "output_type": "execute_result"
    }
   ],
   "source": [
    "online"
   ]
  },
  {
   "cell_type": "markdown",
   "id": "generous-depression",
   "metadata": {},
   "source": [
    "On page 10, figure 1.2 shows the data as a bar chart. We will create a Vega-Lite specification for this data:"
   ]
  },
  {
   "cell_type": "code",
   "execution_count": 48,
   "id": "monthly-samba",
   "metadata": {},
   "outputs": [
    {
     "data": {
      "text/plain": [
       "ONLINE-BAR-CHART"
      ]
     },
     "execution_count": 48,
     "metadata": {},
     "output_type": "execute_result"
    }
   ],
   "source": [
    "(defparameter online-bar-chart (vglt::bar-chart online \"SOURCE\" \"COUNT\"))"
   ]
  },
  {
   "cell_type": "markdown",
   "id": "amateur-clone",
   "metadata": {},
   "source": [
    "and plot it:"
   ]
  },
  {
   "cell_type": "code",
   "execution_count": 7,
   "id": "occupied-animation",
   "metadata": {},
   "outputs": [
    {
     "data": {
      "application/vnd.vegalite.v3+json": {
       "$schema": "https://vega.github.io/schema/vega-lite/v5.json",
       "data": {
        "values": [
         {
          "COUNT": 19,
          "SOURCE": "Other"
         },
         {
          "COUNT": 52,
          "SOURCE": "Wikipedia"
         },
         {
          "COUNT": 75,
          "SOURCE": "Library"
         },
         {
          "COUNT": 406,
          "SOURCE": "Google"
         }
        ]
       },
       "encoding": {
        "x": {
         "axis": {
          "labelAngle": 0
         },
         "field": "SOURCE",
         "type": "nominal"
        },
        "y": {
         "field": "COUNT",
         "type": "quantitative"
        }
       },
       "mark": "bar"
      },
      "image/png": "[encoded data removed]",
      "text/plain": [
       "inline-value"
      ]
     },
     "execution_count": 7,
     "metadata": {},
     "output_type": "execute_result"
    }
   ],
   "source": [
    "(plot online-bar-chart)"
   ]
  },
  {
   "cell_type": "markdown",
   "id": "nominated-stanford",
   "metadata": {},
   "source": [
    "We can see that the source labels are overlapping. Let's fix this by adding a width setting:"
   ]
  },
  {
   "cell_type": "code",
   "execution_count": 49,
   "id": "abroad-cement",
   "metadata": {},
   "outputs": [
    {
     "data": {
      "application/vnd.vegalite.v3+json": {
       "$schema": "https://vega.github.io/schema/vega-lite/v5.json",
       "data": {
        "values": [
         {
          "COUNT": 19,
          "SOURCE": "Other"
         },
         {
          "COUNT": 52,
          "SOURCE": "Wikipedia"
         },
         {
          "COUNT": 75,
          "SOURCE": "Library"
         },
         {
          "COUNT": 406,
          "SOURCE": "Google"
         }
        ]
       },
       "encoding": {
        "x": {
         "axis": {
          "labelAngle": 0
         },
         "field": "SOURCE",
         "type": "nominal"
        },
        "y": {
         "field": "COUNT",
         "type": "quantitative"
        }
       },
       "mark": "bar",
       "width": 300
      },
      "image/png": "[encoded data removed]",
      "text/plain": [
       "inline-value"
      ]
     },
     "execution_count": 49,
     "metadata": {},
     "output_type": "execute_result"
    }
   ],
   "source": [
    "(plot (pushnew '(\"width\" . 300) online-bar-chart))"
   ]
  },
  {
   "cell_type": "markdown",
   "id": "confidential-ebony",
   "metadata": {},
   "source": [
    "You should always consider the best way to order the values in a bar chart. In this case, we will sort X\n",
    "by the value of Y, decending:"
   ]
  },
  {
   "cell_type": "code",
   "execution_count": null,
   "id": "ongoing-witch",
   "metadata": {},
   "outputs": [],
   "source": [
    "(pushnew '(\"sort\" . \"-y\") (accesses online-bar-chart :encoding :x))"
   ]
  },
  {
   "cell_type": "code",
   "execution_count": 51,
   "id": "rational-isaac",
   "metadata": {},
   "outputs": [
    {
     "data": {
      "application/vnd.vegalite.v3+json": {
       "$schema": "https://vega.github.io/schema/vega-lite/v5.json",
       "data": {
        "values": [
         {
          "COUNT": 19,
          "SOURCE": "Other"
         },
         {
          "COUNT": 52,
          "SOURCE": "Wikipedia"
         },
         {
          "COUNT": 75,
          "SOURCE": "Library"
         },
         {
          "COUNT": 406,
          "SOURCE": "Google"
         }
        ]
       },
       "encoding": {
        "x": {
         "axis": {
          "labelAngle": 0
         },
         "field": "SOURCE",
         "sort": "-y",
         "type": "nominal"
        },
        "y": {
         "field": "COUNT",
         "type": "quantitative"
        }
       },
       "mark": "bar",
       "width": 300
      },
      "image/png": "[encoded data removed]",
      "text/plain": [
       "inline-value"
      ]
     },
     "execution_count": 51,
     "metadata": {},
     "output_type": "execute_result"
    }
   ],
   "source": [
    "(plot online-bar-chart)"
   ]
  }
 ],
 "metadata": {
  "kernelspec": {
   "display_name": "Common Lisp",
   "language": "common-lisp",
   "name": "common-lisp"
  },
  "language_info": {
   "codemirror_mode": "text/x-common-lisp",
   "file_extension": ".lisp",
   "mimetype": "text/x-common-lisp",
   "name": "common-lisp",
   "pygments_lexer": "common-lisp",
   "version": "2.0.10.7-1968e18ce"
  }
 },
 "nbformat": 4,
 "nbformat_minor": 5
}
