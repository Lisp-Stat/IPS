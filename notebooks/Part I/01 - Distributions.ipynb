{
 "cells": [
  {
   "cell_type": "markdown",
   "id": "laughing-vanilla",
   "metadata": {
    "tags": []
   },
   "source": [
    "## Introduction and background\n",
    "\n",
    "These notebooks describe how to undertake analyses introduced as examples in the\n",
    "Ninth Edition of *Introduction to the Practice of Statistics* (2017) by Moore, McCabe, and Craig.\n",
    "The data used in the notebooks are from the R version of the notebooks found at https://nhorton.people.amherst.edu/ips9/.\n",
    "\n",
    "## Setup\n",
    "\n",
    "First load the IPS (short for *Introduction to the Practice of Statistics*) package and dependencies:"
   ]
  },
  {
   "cell_type": "code",
   "execution_count": 1,
   "id": "clinical-semiconductor",
   "metadata": {},
   "outputs": [
    {
     "name": "stdout",
     "output_type": "stream",
     "text": [
      "To load \"ips\":\n",
      "  Load 1 ASDF system:\n",
      "    ips\n",
      "\n",
      "; Loading \"ips\"\n",
      "......"
     ]
    },
    {
     "data": {
      "text/plain": [
       "(:IPS)"
      ]
     },
     "execution_count": 1,
     "metadata": {},
     "output_type": "execute_result"
    },
    {
     "name": "stdout",
     "output_type": "stream",
     "text": [
      "\n"
     ]
    }
   ],
   "source": [
    "(ql:quickload :ips)"
   ]
  },
  {
   "cell_type": "code",
   "execution_count": 2,
   "id": "double-niagara",
   "metadata": {
    "tags": []
   },
   "outputs": [
    {
     "data": {
      "text/plain": [
       "#<PACKAGE \"IPS\">"
      ]
     },
     "execution_count": 2,
     "metadata": {},
     "output_type": "execute_result"
    }
   ],
   "source": [
    "(in-package :ips)"
   ]
  },
  {
   "cell_type": "markdown",
   "id": "healthy-microwave",
   "metadata": {},
   "source": [
    "# Chapter 1: Looking at data &mdash; distributions\n",
    "\n",
    "## 1.1 Key characteristics of a data set\n",
    "\n",
    "## 1.2 Displaying distributions with graphs\n",
    "\n",
    "### Categorical variables: Bar graphs and pie charts\n",
    "\n",
    "The distribution of a categorical variable lists the categories and gives either the count or the percent of cases that fall in each category. An alternative to the percent is the proportion, the count divided by the sum of the counts. Note that the percent is simply the proportion times 100.\n",
    "\n",
    "#### Example 1.7 The distribution of a categorical variable using a bar graph.\n",
    "\n",
    "In example 1.7, the distribution of a categorical variable is examined along with a demonstration of the count of each catagory as a percentage of the total. The data set is the preferences for online information resources taken from a survey of 552 first year university students.\n",
    "\n",
    "First, read the data into a data frame with the name 'online'. Note that we're not using the usual convention of \\*earmuffs\\* on the variable name."
   ]
  },
  {
   "cell_type": "code",
   "execution_count": 3,
   "id": "conditional-familiar",
   "metadata": {},
   "outputs": [
    {
     "data": {
      "text/plain": [
       "ONLINE"
      ]
     },
     "execution_count": 3,
     "metadata": {},
     "output_type": "execute_result"
    }
   ],
   "source": [
    "(defparameter online (csv-to-data-frame (dex:get ips:eg01-07 :want-stream t)))"
   ]
  },
  {
   "cell_type": "markdown",
   "id": "equivalent-fault",
   "metadata": {},
   "source": [
    "We can view the counts by typing the variable's name:"
   ]
  },
  {
   "cell_type": "code",
   "execution_count": 4,
   "id": "ranging-animal",
   "metadata": {},
   "outputs": [
    {
     "data": {
      "text/plain": [
       ";; SOURCE    COUNT \n",
       ";; Google      406\n",
       ";; Library      75\n",
       ";; Wikipedia    52\n",
       ";; Other        19"
      ]
     },
     "execution_count": 4,
     "metadata": {},
     "output_type": "execute_result"
    }
   ],
   "source": [
    "online"
   ]
  },
  {
   "cell_type": "markdown",
   "id": "boolean-furniture",
   "metadata": {},
   "source": [
    "On page 10, figure 1.2 shows the data as a bar chart. We will create a Vega-Lite specification for this data:"
   ]
  },
  {
   "cell_type": "code",
   "execution_count": 5,
   "id": "expired-karen",
   "metadata": {},
   "outputs": [
    {
     "data": {
      "text/plain": [
       "ONLINE-BAR-CHART"
      ]
     },
     "execution_count": 5,
     "metadata": {},
     "output_type": "execute_result"
    }
   ],
   "source": [
    "(defparameter online-bar-chart (vglt:bar-chart online \"SOURCE\" \"COUNT\"))"
   ]
  },
  {
   "cell_type": "markdown",
   "id": "appointed-williams",
   "metadata": {},
   "source": [
    "and plot it:"
   ]
  },
  {
   "cell_type": "code",
   "execution_count": 6,
   "id": "descending-catalog",
   "metadata": {},
   "outputs": [
    {
     "data": {
      "application/vnd.vegalite.v3+json": {
       "$schema": "https://vega.github.io/schema/vega-lite/v5.json",
       "data": {
        "values": [
         {
          "COUNT": 19,
          "SOURCE": "Other"
         },
         {
          "COUNT": 52,
          "SOURCE": "Wikipedia"
         },
         {
          "COUNT": 75,
          "SOURCE": "Library"
         },
         {
          "COUNT": 406,
          "SOURCE": "Google"
         }
        ]
       },
       "encoding": {
        "x": {
         "axis": {
          "labelAngle": 0
         },
         "field": "SOURCE",
         "type": "nominal"
        },
        "y": {
         "field": "COUNT",
         "type": "quantitative"
        }
       },
       "mark": "bar"
      },
      "image/png": "[encoded data removed]",
      "text/plain": [
       "inline-value"
      ]
     },
     "execution_count": 6,
     "metadata": {},
     "output_type": "execute_result"
    }
   ],
   "source": [
    "(plot online-bar-chart)"
   ]
  },
  {
   "cell_type": "markdown",
   "id": "greek-horse",
   "metadata": {},
   "source": [
    "We can see that the source labels are overlapping. Let's fix this by adding a width setting:"
   ]
  },
  {
   "cell_type": "code",
   "execution_count": 7,
   "id": "satisfied-tanzania",
   "metadata": {},
   "outputs": [
    {
     "data": {
      "application/vnd.vegalite.v3+json": {
       "$schema": "https://vega.github.io/schema/vega-lite/v5.json",
       "data": {
        "values": [
         {
          "COUNT": 19,
          "SOURCE": "Other"
         },
         {
          "COUNT": 52,
          "SOURCE": "Wikipedia"
         },
         {
          "COUNT": 75,
          "SOURCE": "Library"
         },
         {
          "COUNT": 406,
          "SOURCE": "Google"
         }
        ]
       },
       "encoding": {
        "x": {
         "axis": {
          "labelAngle": 0
         },
         "field": "SOURCE",
         "type": "nominal"
        },
        "y": {
         "field": "COUNT",
         "type": "quantitative"
        }
       },
       "mark": "bar",
       "width": 300
      },
      "image/png": "[encoded data removed]",
      "text/plain": [
       "inline-value"
      ]
     },
     "execution_count": 7,
     "metadata": {},
     "output_type": "execute_result"
    }
   ],
   "source": [
    "(plot (pushnew '(\"width\" . 300) online-bar-chart))"
   ]
  },
  {
   "cell_type": "markdown",
   "id": "upset-niger",
   "metadata": {},
   "source": [
    "You should always consider the best way to order the values in a bar chart. In this case, we will sort X\n",
    "by the value of Y, decending:"
   ]
  },
  {
   "cell_type": "code",
   "execution_count": 8,
   "id": "violent-green",
   "metadata": {},
   "outputs": [
    {
     "data": {
      "text/plain": [
       "((\"sort\" . \"-y\") (\"field\" . \"SOURCE\") (\"type\" . \"nominal\")\n",
       " (\"axis\" (\"labelAngle\" . 0)))"
      ]
     },
     "execution_count": 8,
     "metadata": {},
     "output_type": "execute_result"
    }
   ],
   "source": [
    "(pushnew '(\"sort\" . \"-y\") (accesses online-bar-chart :encoding :x))"
   ]
  },
  {
   "cell_type": "code",
   "execution_count": 9,
   "id": "invalid-anderson",
   "metadata": {},
   "outputs": [
    {
     "data": {
      "application/vnd.vegalite.v3+json": {
       "$schema": "https://vega.github.io/schema/vega-lite/v5.json",
       "data": {
        "values": [
         {
          "COUNT": 19,
          "SOURCE": "Other"
         },
         {
          "COUNT": 52,
          "SOURCE": "Wikipedia"
         },
         {
          "COUNT": 75,
          "SOURCE": "Library"
         },
         {
          "COUNT": 406,
          "SOURCE": "Google"
         }
        ]
       },
       "encoding": {
        "x": {
         "axis": {
          "labelAngle": 0
         },
         "field": "SOURCE",
         "sort": "-y",
         "type": "nominal"
        },
        "y": {
         "field": "COUNT",
         "type": "quantitative"
        }
       },
       "mark": "bar",
       "width": 300
      },
      "image/png": "[encoded data removed]",
      "text/plain": [
       "inline-value"
      ]
     },
     "execution_count": 9,
     "metadata": {},
     "output_type": "execute_result"
    }
   ],
   "source": [
    "(plot online-bar-chart)"
   ]
  },
  {
   "cell_type": "markdown",
   "id": "proper-breast",
   "metadata": {},
   "source": [
    "#### Example 1.10 Pie chart for the online resource preference data\n",
    "Figure 1.3 (page 11) displays the same data in a pie chart. We can create a spec and plot the data as pie chart like this:"
   ]
  },
  {
   "cell_type": "code",
   "execution_count": 10,
   "id": "laden-inventory",
   "metadata": {},
   "outputs": [
    {
     "data": {
      "text/plain": [
       "ONLINE-PIE-CHART"
      ]
     },
     "execution_count": 10,
     "metadata": {},
     "output_type": "execute_result"
    }
   ],
   "source": [
    "(defparameter online-pie-chart (vglt:pie-chart online \"SOURCE\" \"COUNT\"))"
   ]
  },
  {
   "cell_type": "code",
   "execution_count": 11,
   "id": "endangered-antibody",
   "metadata": {},
   "outputs": [
    {
     "data": {
      "application/vnd.vegalite.v3+json": {
       "$schema": "https://vega.github.io/schema/vega-lite/v5.json",
       "data": {
        "values": [
         {
          "COUNT": 19,
          "SOURCE": "Other"
         },
         {
          "COUNT": 52,
          "SOURCE": "Wikipedia"
         },
         {
          "COUNT": 75,
          "SOURCE": "Library"
         },
         {
          "COUNT": 406,
          "SOURCE": "Google"
         }
        ]
       },
       "encoding": {
        "color": {
         "field": "SOURCE",
         "type": "nominal"
        },
        "theta": {
         "field": "COUNT",
         "type": "quantitative"
        }
       },
       "mark": "arc",
       "view": {
        "stroke": [
         ""
        ]
       }
      },
      "image/png": "[encoded data removed]",
      "text/plain": [
       "inline-value"
      ]
     },
     "execution_count": 11,
     "metadata": {},
     "output_type": "execute_result"
    }
   ],
   "source": [
    "(plot online-pie-chart)"
   ]
  },
  {
   "cell_type": "markdown",
   "id": "durable-hello",
   "metadata": {},
   "source": [
    "### Quantitative Variables: Stemplots and histograms\n",
    "A _stemplot_ (stem-and-leaf plot) provides a quick graphical summary of the shape of a distribution. They are good for small data sets. For larger data sets, histograms work best.\n",
    "\n",
    "#### Example 1.11 - Soluble corn fiber and calcium\n",
    "This example show a stem-and-leaf plot of the effect of soluble corn fiber (SCF) on the absorption of calcium in adolescent boys and girls."
   ]
  },
  {
   "cell_type": "code",
   "execution_count": 12,
   "id": "latest-speaker",
   "metadata": {},
   "outputs": [
    {
     "data": {
      "text/plain": [
       "SCF"
      ]
     },
     "execution_count": 12,
     "metadata": {},
     "output_type": "execute_result"
    }
   ],
   "source": [
    "(defparameter scf (csv-to-data-frame (dex:get ips:eg01-11 :want-stream t)))"
   ]
  },
  {
   "cell_type": "code",
   "execution_count": 13,
   "id": "possible-cylinder",
   "metadata": {},
   "outputs": [
    {
     "data": {
      "text/plain": [
       ";; ID TREATMENT ABSORPTION \n",
       ";;  1 Control           42\n",
       ";;  2 Control           33\n",
       ";;  3 Control           41\n",
       ";;  4 Control           49\n",
       ";;  5 Control           42\n",
       ";;  6 Control           47\n",
       ";;  7 Control           48\n",
       ";;  8 Control           47\n",
       ";;  9 Control           53\n",
       ";; 10 Control           72\n",
       ";; 11 Control           47\n",
       ";; 12 Control           63\n",
       ";; 13 Control           68\n",
       ";; 14 Control           59\n",
       ";; 15 Control           35\n",
       ";; 16 Control           46\n",
       ";; 17 Control           43\n",
       ";; 18 Control           55\n",
       ";; 19 Control           38\n",
       ";; 20 Control           49\n",
       ";; 21 Control           51\n",
       ";; 22 Control           51\n",
       ";; 23 Control           66\n",
       ";; 24 SCF               50 .."
      ]
     },
     "execution_count": 13,
     "metadata": {},
     "output_type": "execute_result"
    }
   ],
   "source": [
    "scf"
   ]
  },
  {
   "cell_type": "code",
   "execution_count": null,
   "id": "preceding-skirt",
   "metadata": {},
   "outputs": [],
   "source": []
  }
 ],
 "metadata": {
  "kernelspec": {
   "display_name": "Common Lisp",
   "language": "common-lisp",
   "name": "common-lisp"
  },
  "language_info": {
   "codemirror_mode": "text/x-common-lisp",
   "file_extension": ".lisp",
   "mimetype": "text/x-common-lisp",
   "name": "common-lisp",
   "pygments_lexer": "common-lisp",
   "version": "2.0.10.7-1968e18ce"
  }
 },
 "nbformat": 4,
 "nbformat_minor": 5
}
